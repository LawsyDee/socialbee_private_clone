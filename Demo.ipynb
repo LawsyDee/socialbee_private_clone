{
 "cells": [
  {
   "cell_type": "code",
   "execution_count": 1,
   "metadata": {
    "collapsed": false
   },
   "outputs": [
    {
     "name": "stdout",
     "output_type": "stream",
     "text": [
      "creating full file paths\n",
      "parsing emails\n",
      "flattening dictionary\n",
      "creating network graph\n",
      "creating document term matrix\n",
      "Caluclating 20 topics.\n",
      "Bringing it all together.\n",
      "Building topic-based networks\n",
      "Calculating Global Network Attributes\n",
      "Calculating attributes for Topic 0.\n",
      "Calculating attributes for Topic 1.\n",
      "Calculating attributes for Topic 2.\n",
      "Calculating attributes for Topic 3.\n",
      "Calculating attributes for Topic 4.\n",
      "Calculating attributes for Topic 5.\n",
      "Calculating attributes for Topic 6.\n",
      "Calculating attributes for Topic 7.\n",
      "Calculating attributes for Topic 8.\n",
      "Calculating attributes for Topic 9.\n",
      "Calculating attributes for Topic 10.\n",
      "Calculating attributes for Topic 11.\n",
      "Calculating attributes for Topic 12.\n",
      "Calculating attributes for Topic 13.\n",
      "Calculating attributes for Topic 14.\n",
      "Calculating attributes for Topic 15.\n",
      "Calculating attributes for Topic 16.\n",
      "Calculating attributes for Topic 17.\n",
      "Calculating attributes for Topic 18.\n",
      "Calculating attributes for Topic 19.\n",
      "predicting relationships\n",
      "Writing CYPHER Statements\n",
      "creating Node reports\n",
      "Writing report for Eigenvector...\n",
      "Writing report for DegreeCentrality...\n",
      "Writing report for Degree...\n",
      "Writing report for InDegree...\n",
      "Writing report for OutDegree...\n",
      "Writing report for Closeness...\n",
      "Writing report for Betweeness...\n",
      "23 new 'may know' links\n",
      "8008 total links\n",
      "0.002872127872127872\n"
     ]
    }
   ],
   "source": [
    "run mail_characterization_cp.py"
   ]
  },
  {
   "cell_type": "code",
   "execution_count": 2,
   "metadata": {
    "collapsed": false
   },
   "outputs": [],
   "source": [
    "enron_comms="
   ]
  },
  {
   "cell_type": "code",
   "execution_count": 3,
   "metadata": {
    "collapsed": false
   },
   "outputs": [
    {
     "name": "stdout",
     "output_type": "stream",
     "text": [
      "2605\n",
      "2413\n"
     ]
    }
   ],
   "source": [
    "for comm in w_comms.edges():\n",
    "    if 'enron' in comm[0] or 'enron' in comm[1]:\n",
    "        enron_comms.add_edge(comm[0],comm[1])\n",
    "print(len(w_comms))\n",
    "print(len(enron_comms))"
   ]
  },
  {
   "cell_type": "code",
   "execution_count": 5,
   "metadata": {
    "collapsed": false
   },
   "outputs": [],
   "source": [
    "small_enron_network = nx.Graph()"
   ]
  },
  {
   "cell_type": "code",
   "execution_count": 6,
   "metadata": {
    "collapsed": false
   },
   "outputs": [
    {
     "name": "stdout",
     "output_type": "stream",
     "text": [
      "2369\n",
      "2413\n"
     ]
    }
   ],
   "source": [
    "for edge in enron_comms.edges():\n",
    "    if len(edge[0]) <= 30:\n",
    "        if len(edge[1]) <= 30:\n",
    "            small_enron_network.add_edge(edge[0],edge[1])\n",
    "            \n",
    "print(len(small_enron_network))\n",
    "print(len(enron_comms))"
   ]
  },
  {
   "cell_type": "code",
   "execution_count": 7,
   "metadata": {
    "collapsed": true
   },
   "outputs": [],
   "source": [
    "nx.write_gexf(small_enron_network, \"lovato_clean2.gexf\")"
   ]
  },
  {
   "cell_type": "code",
   "execution_count": 8,
   "metadata": {
    "collapsed": false
   },
   "outputs": [
    {
     "data": {
      "text/plain": [
       "['kevin.jolly@enron.com', 'john.lavorato@enron.com', 'd..steffes@enron.com']"
      ]
     },
     "execution_count": 8,
     "metadata": {},
     "output_type": "execute_result"
    }
   ],
   "source": [
    "nx.shortest_path(small_enron_network, 'kevin.jolly@enron.com','d..steffes@enron.com')"
   ]
  },
  {
   "cell_type": "code",
   "execution_count": 9,
   "metadata": {
    "collapsed": true
   },
   "outputs": [],
   "source": [
    "nodes = ['belden@enron.com',\n",
    "'calger@enron.com',\n",
    "'davies@enron.com',\n",
    "'f..calger@enron.com',\n",
    "'hayden@enron.com',\n",
    "'jonathan.mckay@enron.com',\n",
    "'keith.holst@enron.com',\n",
    "'rogers.herndon@enron.com',\n",
    "'walsh@enron.com',\n",
    "'dorie.hitchcock@enron.com',\n",
    "'angus@enron.com',\n",
    "'calger@enron.com',\n",
    "'harold_tamayo@merck.com',\n",
    "'kevin.jolly@enron.com',\n",
    "'d..steffes@enron.com',\n",
    "'jay.reitmeyer@enron.com',\n",
    "'mrha@enron.com',\n",
    "'technology.enron@enron.com',\n",
    "'presto@enron.com',\n",
    "'chairman.ken@enron.com',\n",
    "'bruce.angus@millsport.com',\n",
    "'tamayo@enron.com',\n",
    "'jolly@enron.com']"
   ]
  },
  {
   "cell_type": "code",
   "execution_count": 12,
   "metadata": {
    "collapsed": false
   },
   "outputs": [],
   "source": [
    "lavorato_neighbors = list(small_enron_network['john.lavorato@enron.com'].keys())"
   ]
  },
  {
   "cell_type": "code",
   "execution_count": 14,
   "metadata": {
    "collapsed": false
   },
   "outputs": [
    {
     "name": "stdout",
     "output_type": "stream",
     "text": [
      "belden@enron.com\n",
      "calger@enron.com\n",
      "davies@enron.com\n",
      "f..calger@enron.com\n",
      "hayden@enron.com\n",
      "jonathan.mckay@enron.com\n",
      "keith.holst@enron.com\n",
      "rogers.herndon@enron.com\n",
      "walsh@enron.com\n",
      "dorie.hitchcock@enron.com\n",
      "angus@enron.com\n",
      "calger@enron.com\n",
      "kevin.jolly@enron.com\n",
      "d..steffes@enron.com\n",
      "jay.reitmeyer@enron.com\n",
      "mrha@enron.com\n",
      "technology.enron@enron.com\n",
      "presto@enron.com\n",
      "jolly@enron.com\n"
     ]
    }
   ],
   "source": [
    "for node in nodes:\n",
    "    if node in lavorato_neighbors:\n",
    "        print(node)"
   ]
  },
  {
   "cell_type": "code",
   "execution_count": 15,
   "metadata": {
    "collapsed": false
   },
   "outputs": [
    {
     "data": {
      "text/plain": [
       "['bruce.angus@millsport.com',\n",
       " 'john.j.lavorato@enron.com',\n",
       " 'rgatlin@cmgtx.com',\n",
       " 'john.lavorato@enron.com']"
      ]
     },
     "execution_count": 15,
     "metadata": {},
     "output_type": "execute_result"
    }
   ],
   "source": [
    "nx.shortest_path(small_enron_network,\"bruce.angus@millsport.com\", \"john.lavorato@enron.com\")"
   ]
  },
  {
   "cell_type": "code",
   "execution_count": 20,
   "metadata": {
    "collapsed": false
   },
   "outputs": [
    {
     "data": {
      "text/plain": [
       "dict_keys(['dl-ga-all_ews@enron.com'])"
      ]
     },
     "execution_count": 20,
     "metadata": {},
     "output_type": "execute_result"
    }
   ],
   "source": [
    "small_enron_network['chairman.ken@enron.com'].keys()"
   ]
  },
  {
   "cell_type": "code",
   "execution_count": 21,
   "metadata": {
    "collapsed": false
   },
   "outputs": [
    {
     "data": {
      "text/plain": [
       "dict_keys(['chairman.ken@enron.com'])"
      ]
     },
     "execution_count": 21,
     "metadata": {},
     "output_type": "execute_result"
    }
   ],
   "source": [
    "small_enron_network['dl-ga-all_ews@enron.com'].keys()"
   ]
  },
  {
   "cell_type": "code",
   "execution_count": 23,
   "metadata": {
    "collapsed": false
   },
   "outputs": [
    {
     "data": {
      "text/plain": [
       "dict_keys(['john.lavorato@enron.com'])"
      ]
     },
     "execution_count": 23,
     "metadata": {},
     "output_type": "execute_result"
    }
   ],
   "source": [
    "small_enron_network['dorie.hitchcock@enron.com'].keys()"
   ]
  },
  {
   "cell_type": "code",
   "execution_count": 30,
   "metadata": {
    "collapsed": false
   },
   "outputs": [
    {
     "data": {
      "text/plain": [
       "{}"
      ]
     },
     "execution_count": 30,
     "metadata": {},
     "output_type": "execute_result"
    }
   ],
   "source": [
    "w_comms['dl-ga-all_ews@enron.com']"
   ]
  },
  {
   "cell_type": "code",
   "execution_count": 33,
   "metadata": {
    "collapsed": false
   },
   "outputs": [],
   "source": [
    "nx.write_gexf(small_enron_network, \"small_lovato.gexf\")"
   ]
  },
  {
   "cell_type": "code",
   "execution_count": 36,
   "metadata": {
    "collapsed": false
   },
   "outputs": [
    {
     "name": "stdout",
     "output_type": "stream",
     "text": [
      "0 corp\t2000\tjohn\tlavorato\tforwarded\tmark\tted\tdelainey\tdavid\tplease\n",
      "---\n",
      "1 know\tlet\tneed\tplease\tlike\tmail\thelp\tjohn\tsee\tsend\n",
      "---\n",
      "2 report\terv\tviolation\tviewing\tpublished\tamericas\tnotification\tavailable\tmemo\treport_name\n",
      "---\n",
      "3 call\tgive\tplease\tfine\tquestions\tjanet\tchance\tone\tkevin\tinfo\n",
      "---\n",
      "4 good\tlooks\tsounds\tjob\tupdate\ttim\tgreat\tkeep\thandling\trob\n",
      "---\n",
      "5 yes\tdear\tstrong\t18th\tfollow\tissues\tmercer\t6437\tgolf\tsaturday\n",
      "---\n",
      "6 var\tmillion\tgas\tlimit\tincrease\tnatural\trequest\tdesk\tlike\ttrading\n",
      "---\n",
      "7 ees\tenron_development\tcommunications\trogers\tcorp\tna\tenronxgate\therndon\timpact\t2001\n",
      "---\n",
      "8 meeting\tplease\tattend\ttomorrow\ttuesday\tset\tkim\thillis\tliz\tcommittee\n",
      "---\n",
      "9 lavo\tdave\tlondon\tlike\tthink\topinion\tcovered\tgoing\tresumes\tseems\n",
      "---\n",
      "10 power\tontario\tbruce\tinterest\tenergy\topg\tnuclear\tsafety\temployees\teast\n",
      "---\n",
      "11 approved\t000\tcontract\tgrant\tted\toptions\tterm\tprinciple\tmemo\tboard\n",
      "---\n",
      "12 get\tschedule\tweek\tback\tjohn\tll\tnext\ttalk\tcouple\treports\n",
      "---\n",
      "13 2001\tjohn\toriginal\tlavorato\tnovember\ttuesday\twednesday\tthursday\tmay\tmonday\n",
      "---\n",
      "14 thanks\tinterest\ttim\tplease\tinfo\tjohn\twork\tmike\ttime\tupdate\n",
      "---\n",
      "15 manager\tvp\tdirector\tcommercial\tlist\tcurrent\tprc\tbonus\tmanagers\temployees\n",
      "---\n",
      "16 kudlow\thyperlink\tcommentary\tlogin\tmay\tllc\tcontentid\tpaste\tsubscriber\tbrowser\n",
      "---\n",
      "17 intercontinentalexchange\tdata\tgas\t000\tindex\texpress\tdelivered\ttrade\tpower\tnatural\n",
      "---\n",
      "18 enronxgate\tcal\tderek\tdavies\tscott\trob\tmilnthorp\tchris\tmike\tmiller\n",
      "---\n",
      "19 think\tdeal\tlast\tus\tcredit\tyear\tone\tday\tworking\t000\n",
      "---\n"
     ]
    }
   ],
   "source": [
    "n=0\n",
    "for topic in topic_words:\n",
    "    print(n,\"\\t\".join(topic[:10]))\n",
    "    print(\"---\")\n",
    "    n+=1\n"
   ]
  },
  {
   "cell_type": "code",
   "execution_count": 41,
   "metadata": {
    "collapsed": false
   },
   "outputs": [
    {
     "data": {
      "text/plain": [
       "networkx.classes.digraph.DiGraph"
      ]
     },
     "execution_count": 41,
     "metadata": {},
     "output_type": "execute_result"
    }
   ],
   "source": [
    "type(nx_topic_dictionary[8])"
   ]
  },
  {
   "cell_type": "code",
   "execution_count": 43,
   "metadata": {
    "collapsed": false
   },
   "outputs": [],
   "source": [
    "nx.write_gexf(nx_topic_dictionary[8],\"topic_8_lovorato.gexf\")"
   ]
  },
  {
   "cell_type": "code",
   "execution_count": null,
   "metadata": {
    "collapsed": false
   },
   "outputs": [],
   "source": []
  },
  {
   "cell_type": "code",
   "execution_count": null,
   "metadata": {
    "collapsed": true
   },
   "outputs": [],
   "source": []
  }
 ],
 "metadata": {
  "kernelspec": {
   "display_name": "Python 3",
   "language": "python",
   "name": "python3"
  },
  "language_info": {
   "codemirror_mode": {
    "name": "ipython",
    "version": 3
   },
   "file_extension": ".py",
   "mimetype": "text/x-python",
   "name": "python",
   "nbconvert_exporter": "python",
   "pygments_lexer": "ipython3",
   "version": "3.5.1"
  }
 },
 "nbformat": 4,
 "nbformat_minor": 0
}
